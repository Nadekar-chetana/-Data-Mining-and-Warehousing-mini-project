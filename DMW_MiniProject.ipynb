{
  "nbformat": 4,
  "nbformat_minor": 0,
  "metadata": {
    "kernelspec": {
      "display_name": "Python 3",
      "language": "python",
      "name": "python3"
    },
    "language_info": {
      "codemirror_mode": {
        "name": "ipython",
        "version": 3
      },
      "file_extension": ".py",
      "mimetype": "text/x-python",
      "name": "python",
      "nbconvert_exporter": "python",
      "pygments_lexer": "ipython3",
      "version": "3.8.3"
    },
    "colab": {
      "name": "DMW_MiniProject.ipynb",
      "provenance": []
    }
  },
  "cells": [
    {
      "cell_type": "code",
      "metadata": {
        "id": "yvQXAxfGYeeD"
      },
      "source": [
        "#Understand the data in order to predict who survived and who did not in the Titanic disaster."
      ],
      "execution_count": 1,
      "outputs": []
    },
    {
      "cell_type": "code",
      "metadata": {
        "id": "BFstJbTjjYgx"
      },
      "source": [
        "import pandas as pd \n",
        "import matplotlib.pyplot as plt \n",
        "import seaborn as sns \n",
        "plt.style.use('fivethirtyeight') \n",
        "import warnings \n",
        "warnings.filterwarnings('ignore') \n",
        "%matplotlib inline"
      ],
      "execution_count": 5,
      "outputs": []
    },
    {
      "cell_type": "code",
      "metadata": {
        "id": "V_UONUkwYeeR"
      },
      "source": [
        "data=pd.read_csv('Train_T.csv')\n",
        "test=pd.read_csv('Test_T.csv')"
      ],
      "execution_count": null,
      "outputs": []
    },
    {
      "cell_type": "code",
      "metadata": {
        "id": "eRDvA18gYeeR"
      },
      "source": [
        "data.head()"
      ],
      "execution_count": null,
      "outputs": []
    },
    {
      "cell_type": "code",
      "metadata": {
        "id": "VYObfj6LYeeT"
      },
      "source": [
        "data.isnull().sum()   #checking for total null values"
      ],
      "execution_count": null,
      "outputs": []
    },
    {
      "cell_type": "code",
      "metadata": {
        "id": "T89Q0ZyJYeeU"
      },
      "source": [
        "def bar_chart(feature):\n",
        "    survived = data[data['Survived']==1][feature].value_counts()\n",
        "    dead = data[data['Survived']==0][feature].value_counts()\n",
        "    df = pd.DataFrame([survived,dead])\n",
        "    df.index = ['Survived','Dead']\n",
        "    df.plot(kind='bar',stacked=True, figsize=(10,5))"
      ],
      "execution_count": null,
      "outputs": []
    },
    {
      "cell_type": "code",
      "metadata": {
        "id": "FNhwd1XlYeeU"
      },
      "source": [
        "f, ax=plt.subplots(1,2,figsize=(18,8))\n",
        "data['Survived'].value_counts().plot.pie(explode=[0,0.1],autopct='%1.1f%%',\n",
        "                            ax=ax[0],shadow=True,labels=['Deceased', 'Survived'])\n",
        "ax[0].set_title('Survived')\n",
        "ax[0].set_ylabel('')\n",
        "sns.countplot('Survived',data=data,ax=ax[1])\n",
        "ax[1].set_title('Survived')\n",
        "plt.show()"
      ],
      "execution_count": null,
      "outputs": []
    },
    {
      "cell_type": "code",
      "metadata": {
        "id": "_23jG4nZYeeV"
      },
      "source": [
        "data.groupby(['Sex','Survived'])['Survived'].count()"
      ],
      "execution_count": null,
      "outputs": []
    },
    {
      "cell_type": "code",
      "metadata": {
        "id": "SS0VvSGeYeeV"
      },
      "source": [
        "f, ax=plt.subplots(1,2,figsize=(18,8))\n",
        "data[['Sex','Survived']].groupby(['Sex']).mean().plot.bar(ax=ax[0])\n",
        "ax[0].set_title('Survived vs Sex')\n",
        "sns.countplot('Sex',hue='Survived',data=data,ax=ax[1])\n",
        "ax[1].set_title('Sex:Survived vs Dead')\n",
        "plt.show()"
      ],
      "execution_count": null,
      "outputs": []
    },
    {
      "cell_type": "code",
      "metadata": {
        "id": "pUsCJYJzYeeW"
      },
      "source": [
        "pd.crosstab(data.Pclass,data.Survived,margins=True).style.background_gradient(cmap='summer_r')"
      ],
      "execution_count": null,
      "outputs": []
    },
    {
      "cell_type": "code",
      "metadata": {
        "id": "YqBbIJsKYeeX"
      },
      "source": [
        "f, ax=plt.subplots(1,2,figsize=(18,8))\n",
        "data['Pclass'].value_counts().plot.bar(color=['#CD7F32','#ffdf00','#d3d3d3'],ax=ax[0])\n",
        "ax[0].set_title('Number of Passengers By Pclass')\n",
        "ax[0].set_ylabel('Count')\n",
        "sns.countplot('Pclass',hue='Survived',data=data,ax=ax[1])\n",
        "ax[1].set_title('Pclass : Survived vs Dead')\n",
        "plt.show()"
      ],
      "execution_count": null,
      "outputs": []
    },
    {
      "cell_type": "code",
      "metadata": {
        "id": "7fBeAbFaYeeY"
      },
      "source": [
        "Pclass1 = data[data['Pclass'] == 1]['Embarked'].value_counts()\n",
        "Pclass2 = data[data['Pclass'] == 2]['Embarked'].value_counts()\n",
        "Pclass3 = data[data['Pclass'] == 3]['Embarked'].value_counts()\n",
        "\n",
        "df = pd.DataFrame([Pclass1,Pclass2,Pclass3])\n",
        "df.index = ['1st Class','2nd Class','3rd Class']\n",
        "df.plot(kind = 'bar', stacked =  True, figsize=(10,5))\n",
        "plt.show()\n",
        "print(\"Pclass1:\\n\",Pclass1)\n",
        "print(\"Pclass2:\\n\",Pclass2)\n",
        "print(\"Pclass3:\\n\",Pclass3)"
      ],
      "execution_count": null,
      "outputs": []
    },
    {
      "cell_type": "code",
      "metadata": {
        "id": "B8RVabO8YeeZ"
      },
      "source": [
        "pd.crosstab([data.Sex,data.Survived],data.Pclass,margins=True)"
      ],
      "execution_count": null,
      "outputs": []
    },
    {
      "cell_type": "code",
      "metadata": {
        "id": "ufj3whjWYeea"
      },
      "source": [
        "print('Oldest Passenger was of :',data['Age'].max(),'Years')\n",
        "print('Youngest Passenger was of :',data['Age'].min(),'Years')\n",
        "print('Average Age of Passenger on Ship was :',data['Age'].mean(),'Years')"
      ],
      "execution_count": null,
      "outputs": []
    },
    {
      "cell_type": "code",
      "metadata": {
        "id": "3z1b03vNYeeb"
      },
      "source": [
        "data['Initial']=0\n",
        "for i in data:\n",
        "    data['Initial']=data.Name.str.extract('([A-Za-z]+)\\.') #Extract the salutations"
      ],
      "execution_count": null,
      "outputs": []
    },
    {
      "cell_type": "code",
      "metadata": {
        "id": "y3TruIzfYeeb"
      },
      "source": [
        "test['Initial']=0\n",
        "for i in test:\n",
        "    test['Initial']=test.Name.str.extract('([A-Za-z]+)\\.') #Extract the salutations"
      ],
      "execution_count": null,
      "outputs": []
    },
    {
      "cell_type": "code",
      "metadata": {
        "id": "UFhleziEYeec"
      },
      "source": [
        "# Checking the Initials with the Sex\n",
        "pd.crosstab(data.Initial,data.Sex).T"
      ],
      "execution_count": null,
      "outputs": []
    },
    {
      "cell_type": "code",
      "metadata": {
        "id": "BkElSyshYeec"
      },
      "source": [
        "data['Initial'].replace(['Mlle','Mme','Ms','Dr','Major','Lady','Countess','Jonkheer',\n",
        "                         'Col','Rev','Capt','Sir','Don'],\n",
        "                        ['Miss','Miss','Miss','Mr','Mr','Mrs','Mrs','Other','Other',\n",
        "                         'Other','Mr','Mr','Mr'],inplace=True)"
      ],
      "execution_count": null,
      "outputs": []
    },
    {
      "cell_type": "code",
      "metadata": {
        "id": "yw2f8V1XYeed"
      },
      "source": [
        "test['Initial'].replace(['Mlle','Mme','Ms','Dr','Major','Lady','Countess','Jonkheer',\n",
        "                         'Col','Rev','Capt','Sir','Don'],\n",
        "                        ['Miss','Miss','Miss','Mr','Mr','Mrs','Mrs','Other','Other',\n",
        "                         'Other','Mr','Mr','Mr'],inplace=True)"
      ],
      "execution_count": null,
      "outputs": []
    },
    {
      "cell_type": "code",
      "metadata": {
        "id": "7cUlI68fYeed"
      },
      "source": [
        "# Check the Average age by Initials\n",
        "data.groupby('Initial')['Age'].mean()"
      ],
      "execution_count": null,
      "outputs": []
    },
    {
      "cell_type": "code",
      "metadata": {
        "id": "lZweup_CYeee"
      },
      "source": [
        "# Assigning the NaN Values with the Ceil values of the mean ages\n",
        "data.loc[(data.Age.isnull()) & (data.Initial=='Mr'),'Age']=33\n",
        "data.loc[(data.Age.isnull()) & (data.Initial=='Mrs'),'Age']=36\n",
        "data.loc[(data.Age.isnull()) & (data.Initial=='Master'),'Age']=5\n",
        "data.loc[(data.Age.isnull()) & (data.Initial=='Miss'),'Age']=22\n",
        "data.loc[(data.Age.isnull()) & (data.Initial=='Other'),'Age']=46"
      ],
      "execution_count": null,
      "outputs": []
    },
    {
      "cell_type": "code",
      "metadata": {
        "id": "kHXTAdSxYeee"
      },
      "source": [
        "#check if any values is left\n",
        "data.Age.isnull().any()"
      ],
      "execution_count": null,
      "outputs": []
    },
    {
      "cell_type": "code",
      "metadata": {
        "id": "cXZ2WWQMYeef"
      },
      "source": [
        "test.loc[(test.Age.isnull()) & (test.Initial=='Mr'),'Age']=33\n",
        "test.loc[(test.Age.isnull()) & (test.Initial=='Mrs'),'Age']=36\n",
        "test.loc[(test.Age.isnull()) & (test.Initial=='Master'),'Age']=5\n",
        "test.loc[(test.Age.isnull()) & (test.Initial=='Miss'),'Age']=22\n",
        "test.loc[(test.Age.isnull()) & (test.Initial=='Other'),'Age']=46"
      ],
      "execution_count": null,
      "outputs": []
    },
    {
      "cell_type": "code",
      "metadata": {
        "id": "QAbbFAUeYeef"
      },
      "source": [
        "test.Age.isnull().any()"
      ],
      "execution_count": null,
      "outputs": []
    },
    {
      "cell_type": "code",
      "metadata": {
        "id": "MviInWD-Yeeg"
      },
      "source": [
        "f,ax=plt.subplots(1,2,figsize=(20,10))\n",
        "data[data['Survived']==0].Age.plot.hist(ax=ax[0],bins=20,\n",
        "                                        edgecolor='black',color='red')\n",
        "ax[0].set_title('Survived = 0')\n",
        "x1=list(range(0,85,5))\n",
        "ax[0].set_xticks(x1)\n",
        "\n",
        "data[data['Survived']==1].Age.plot.hist(ax=ax[1],bins=20,\n",
        "                                        edgecolor='black',color='green')\n",
        "ax[1].set_title('Survived = 1')\n",
        "x2=list(range(0,85,5))\n",
        "ax[1].set_xticks(x2)\n",
        "\n",
        "plt.show()"
      ],
      "execution_count": null,
      "outputs": []
    },
    {
      "cell_type": "code",
      "metadata": {
        "id": "GSfY_1KJYeeh"
      },
      "source": [
        "pd.crosstab([data.Embarked,data.Pclass],[data.Sex,data.Survived],margins=True)"
      ],
      "execution_count": null,
      "outputs": []
    },
    {
      "cell_type": "code",
      "metadata": {
        "id": "HMiZGhboYeei"
      },
      "source": [
        "sns.factorplot('Embarked','Survived',data=data)\n",
        "fig=plt.gcf()\n",
        "fig.set_size_inches(5,3)\n",
        "plt.show()"
      ],
      "execution_count": null,
      "outputs": []
    },
    {
      "cell_type": "code",
      "metadata": {
        "id": "SgDBTC4gYeej"
      },
      "source": [
        "f,ax=plt.subplots(2,2,figsize=(20,15))\n",
        "sns.countplot('Embarked',data=data,ax=ax[0,0])\n",
        "ax[0,0].set_title('Number of Passengers Boarded')\n",
        "\n",
        "sns.countplot('Embarked',hue='Sex',data=data,ax=ax[0,1])\n",
        "ax[0,1].set_title('Male-Female Split for Embarked')\n",
        "\n",
        "sns.countplot('Embarked',hue='Survived',data=data,ax=ax[1,0])\n",
        "ax[1,0].set_title('Embarked vs Survived')\n",
        "\n",
        "sns.countplot('Embarked',hue='Pclass',data=data,ax=ax[1,1])\n",
        "ax[1,1].set_title('Embarked vs Pclass')\n",
        "\n",
        "plt.subplots_adjust(wspace=0.2,hspace=0.5)\n",
        "plt.show()"
      ],
      "execution_count": null,
      "outputs": []
    },
    {
      "cell_type": "code",
      "metadata": {
        "id": "FcUloy13Yeek"
      },
      "source": [
        "data['Embarked'].fillna('S',inplace=True)"
      ],
      "execution_count": null,
      "outputs": []
    },
    {
      "cell_type": "code",
      "metadata": {
        "id": "W7YSpM9pYeek"
      },
      "source": [
        "#Check if any NaN values\n",
        "data.Embarked.isnull().any()"
      ],
      "execution_count": null,
      "outputs": []
    },
    {
      "cell_type": "code",
      "metadata": {
        "id": "N4cPmLtwYeel"
      },
      "source": [
        "pd.crosstab([data.SibSp],data.Survived)"
      ],
      "execution_count": null,
      "outputs": []
    },
    {
      "cell_type": "code",
      "metadata": {
        "id": "4wWaWUEXYeel"
      },
      "source": [
        "pd.crosstab(data.SibSp,data.Pclass)"
      ],
      "execution_count": null,
      "outputs": []
    },
    {
      "cell_type": "code",
      "metadata": {
        "id": "nUMBY0-jYeem"
      },
      "source": [
        "pd.crosstab(data.Parch,data.Pclass)"
      ],
      "execution_count": null,
      "outputs": []
    },
    {
      "cell_type": "code",
      "metadata": {
        "id": "tLgNa7jyYeem"
      },
      "source": [
        "print('Highest Fare Was :', data['Fare'].max())\n",
        "print('Lowest Fare Was :', data['Fare'].min())\n",
        "print('Average Fare Was :', data['Fare'].mean())"
      ],
      "execution_count": null,
      "outputs": []
    },
    {
      "cell_type": "code",
      "metadata": {
        "id": "fHOE9ApyYeen"
      },
      "source": [
        "data['Age_band']=0\n",
        "data.loc[data['Age']<=16,'Age_band']=0\n",
        "data.loc[(data['Age']>16) & (data['Age']<=32),'Age_band']=1\n",
        "data.loc[(data['Age']>32) & (data['Age']<=48),'Age_band']=2\n",
        "data.loc[(data['Age']>48) & (data['Age']<=64),'Age_band']=3\n",
        "data.loc[data['Age']>64,'Age_band']=4  "
      ],
      "execution_count": null,
      "outputs": []
    },
    {
      "cell_type": "code",
      "metadata": {
        "id": "_wlhc19ZYeen"
      },
      "source": [
        "data.head()\n",
        "bar_chart('Age_band')"
      ],
      "execution_count": null,
      "outputs": []
    },
    {
      "cell_type": "code",
      "metadata": {
        "id": "OfshFeURYeen"
      },
      "source": [
        "# Check Number of Passengers in each band\n",
        "data['Age_band'].value_counts().to_frame()"
      ],
      "execution_count": null,
      "outputs": []
    },
    {
      "cell_type": "code",
      "metadata": {
        "id": "rmQUnGv8Yeeo"
      },
      "source": [
        "data['Fare_Range']=pd.qcut(data['Fare'],4)\n",
        "data.groupby(['Fare_Range'])['Survived'].mean().to_frame()"
      ],
      "execution_count": null,
      "outputs": []
    },
    {
      "cell_type": "code",
      "metadata": {
        "id": "-FCgYx0sYeeo"
      },
      "source": [
        "test.Fare = test.Fare.fillna(32)"
      ],
      "execution_count": null,
      "outputs": []
    },
    {
      "cell_type": "code",
      "metadata": {
        "id": "N6IksBszYeep"
      },
      "source": [
        "data['FamilySize'] = pd.DataFrame(data.SibSp + data.Parch)\n",
        "data.describe()"
      ],
      "execution_count": null,
      "outputs": []
    },
    {
      "cell_type": "code",
      "metadata": {
        "scrolled": true,
        "id": "9eKDGL1mYeep"
      },
      "source": [
        "test['FamilySize'] = pd.DataFrame(test.SibSp + test.Parch)\n",
        "test.describe()"
      ],
      "execution_count": null,
      "outputs": []
    },
    {
      "cell_type": "code",
      "metadata": {
        "id": "9T9rA5WoYeep"
      },
      "source": [
        "data= data.drop(['SibSp', 'Parch'], axis = 1)\n",
        "test= test.drop(['SibSp', 'Parch'], axis = 1)\n",
        "data.head()"
      ],
      "execution_count": null,
      "outputs": []
    },
    {
      "cell_type": "code",
      "metadata": {
        "id": "LdsMZLXrYeeq"
      },
      "source": [
        "data['Sex'].replace(['male','female'], [0,1], inplace=True) \n",
        "test['Sex'] = test['Sex'].map( {'female': 1, 'male': 0} ).astype(int)\n",
        "data['Embarked'].replace(['S','C', 'Q'], [0,1,2], inplace=True)\n",
        "test['Embarked'].replace(['S','C', 'Q'], [0,1,2], inplace=True)\n",
        "data['Initial'].replace(['Mr', 'Mrs', 'Miss', 'Master', 'other'],\n",
        "                        [0,1,2,3,4],inplace=True)"
      ],
      "execution_count": null,
      "outputs": []
    },
    {
      "cell_type": "code",
      "metadata": {
        "scrolled": true,
        "id": "_f9N43-NYeeq"
      },
      "source": [
        "data.head()"
      ],
      "execution_count": null,
      "outputs": []
    },
    {
      "cell_type": "code",
      "metadata": {
        "id": "5TPJ99KLYeeq"
      },
      "source": [
        "data.drop(['Ticket','Name','Cabin','Fare_Range','Age_band','Initial','PassengerId'],\n",
        "          axis=1,inplace=True)\n",
        "test.drop(['Ticket','Name','Cabin','PassengerId','Initial'],\n",
        "          axis=1,inplace=True)"
      ],
      "execution_count": null,
      "outputs": []
    },
    {
      "cell_type": "code",
      "metadata": {
        "id": "TSbsajnLYeer"
      },
      "source": [
        "data.head()"
      ],
      "execution_count": null,
      "outputs": []
    },
    {
      "cell_type": "code",
      "metadata": {
        "id": "HzJKjTFaYeer"
      },
      "source": [
        "test.head()"
      ],
      "execution_count": null,
      "outputs": []
    },
    {
      "cell_type": "code",
      "metadata": {
        "id": "-YIxjf04Yeer"
      },
      "source": [
        "x_train = data.drop(\"Survived\", axis = 1)\n",
        "y_train = data.Survived\n",
        "x_test = test\n",
        "x_train.shape,y_train.shape, x_test.shape"
      ],
      "execution_count": null,
      "outputs": []
    },
    {
      "cell_type": "code",
      "metadata": {
        "id": "al8YP4dAYees"
      },
      "source": [
        "X=data\n",
        "Y=data['Survived']"
      ],
      "execution_count": null,
      "outputs": []
    },
    {
      "cell_type": "code",
      "metadata": {
        "id": "cDbBzFoEYees"
      },
      "source": [
        "x_train.info()"
      ],
      "execution_count": null,
      "outputs": []
    },
    {
      "cell_type": "code",
      "metadata": {
        "id": "XoMXOiuAYees"
      },
      "source": [
        "x_test.head()"
      ],
      "execution_count": null,
      "outputs": []
    },
    {
      "cell_type": "code",
      "metadata": {
        "id": "_ZEdLJVCYeet"
      },
      "source": [
        "#Importing all the required ML packages \n",
        "from sklearn.linear_model import LogisticRegression #Logistic Regression\n",
        "from sklearn import svm #Support Vector Machine\n",
        "from sklearn.neighbors import KNeighborsClassifier #KNN \n",
        "from sklearn.naive_bayes import GaussianNB #Naive bayes\n",
        "from sklearn.tree import DecisionTreeClassifier #Decision Tree\n",
        "from sklearn.model_selection import train_test_split #Training and testing data split \n",
        "from sklearn import metrics #Accuracy Measure\n",
        "from sklearn.metrics import confusion_matrix #for Confusion Matrix\n",
        "from sklearn.ensemble import RandomForestClassifier\n",
        "from sklearn.svm import SVC"
      ],
      "execution_count": null,
      "outputs": []
    },
    {
      "cell_type": "code",
      "metadata": {
        "id": "w-ou65TVYeeu"
      },
      "source": [
        "model = LogisticRegression()\n",
        "model.fit(x_train, y_train)\n",
        "logreg = model.predict(x_test)\n",
        "acc_log = round(model.score(x_train, y_train) * 100, 2)\n",
        "print('The Accuracy of the Logistic Regression is :',acc_log)"
      ],
      "execution_count": null,
      "outputs": []
    },
    {
      "cell_type": "code",
      "metadata": {
        "id": "7M1Kkp6vYeeu"
      },
      "source": [
        "model = DecisionTreeClassifier()\n",
        "model.fit(x_train, y_train)\n",
        "decision_tree = model.predict(x_test)\n",
        "acc_decision_tree = round(model.score(x_train, y_train) * 100, 2)\n",
        "print('The Accuracy of the Decision Tree Classifier is :',\n",
        "      acc_decision_tree)"
      ],
      "execution_count": null,
      "outputs": []
    },
    {
      "cell_type": "code",
      "metadata": {
        "id": "kV-RROK8Yeev"
      },
      "source": [
        "model = KNeighborsClassifier(n_neighbors = 3)\n",
        "model.fit(x_train, y_train)\n",
        "knn = model.predict(x_test)\n",
        "acc_knn = round(model.score(x_train, y_train) * 100, 2)\n",
        "print('The Accuracy of the KNN is :',acc_knn)"
      ],
      "execution_count": null,
      "outputs": []
    },
    {
      "cell_type": "code",
      "metadata": {
        "id": "Da0rYge2Yeev"
      },
      "source": [
        "model = GaussianNB()\n",
        "model.fit(x_train, y_train)\n",
        "gaussian = model.predict(x_test)\n",
        "acc_gaussian = round(model.score(x_train, y_train) * 100, 2)\n",
        "print('The Accuracy of the NaiveBayes is :',acc_gaussian)"
      ],
      "execution_count": null,
      "outputs": []
    },
    {
      "cell_type": "code",
      "metadata": {
        "id": "JGgJ2w49Yeew"
      },
      "source": [
        "model = SVC()\n",
        "model.fit(x_train, y_train)\n",
        "svc = model.predict(x_test)\n",
        "acc_svc = round(model.score(x_train, y_train) * 100, 2)\n",
        "print('The Accuracy of the SVM is :',acc_svc)"
      ],
      "execution_count": null,
      "outputs": []
    },
    {
      "cell_type": "code",
      "metadata": {
        "id": "fmKrO1UPYeew"
      },
      "source": [
        "model = RandomForestClassifier(n_estimators=100)\n",
        "model.fit(x_train, y_train)\n",
        "random_forest = model.predict(x_test)\n",
        "model.score(x_train, y_train)\n",
        "acc_random_forest = round(model.score(x_train, y_train) * 100, 2)\n",
        "print('The Accuracy of the Random Forest is :',acc_random_forest)"
      ],
      "execution_count": null,
      "outputs": []
    },
    {
      "cell_type": "code",
      "metadata": {
        "id": "HjBdW9KEYeex"
      },
      "source": [
        "from sklearn.model_selection import cross_val_score #score evaluation \n",
        "from sklearn.model_selection import cross_val_predict #prediction "
      ],
      "execution_count": null,
      "outputs": []
    },
    {
      "cell_type": "code",
      "metadata": {
        "id": "cCmxTCm0Yeex"
      },
      "source": [
        "models = pd.DataFrame({\n",
        "    'Model': ['Support Vector Machines', 'KNN', 'Logistic Regression', \n",
        "              'Random Forest', 'Naive Bayes', 'Decision Tree'],\n",
        "    'Score': [acc_svc, acc_knn, acc_log, \n",
        "              acc_random_forest, acc_gaussian,  acc_decision_tree]})\n",
        "models.sort_values(by='Score', ascending=False)"
      ],
      "execution_count": null,
      "outputs": []
    },
    {
      "cell_type": "code",
      "metadata": {
        "id": "LjmQUWbhYeey"
      },
      "source": [
        "f,ax=plt.subplots(3,2,figsize=(12,10))\n",
        "\n",
        "y_pred = cross_val_predict(KNeighborsClassifier(n_neighbors=9),X,Y, cv=103)\n",
        "sns.heatmap(confusion_matrix(Y,y_pred), ax=ax[0,0],annot=True, fmt='2.0f')\n",
        "ax[0,0].set_title('Matrix for KNN')\n",
        "\n",
        "y_pred = cross_val_predict(model,X,Y, cv=10)\n",
        "sns.heatmap(confusion_matrix(Y, y_pred), ax=ax[1,0], annot=True, fmt='2.0f')\n",
        "ax[1,0].set_title('Matrix for Logistic Regression')\n",
        "\n",
        "y_pred = cross_val_predict(DecisionTreeClassifier(),X,Y,cv=10)\n",
        "sns.heatmap(confusion_matrix(Y, y_pred), ax=ax[1,1], annot=True, fmt='2.0f')\n",
        "ax[1,1].set_title('Matrix for Decision Tree')\n",
        "\n",
        "y_pred = cross_val_predict(GaussianNB(),X,Y,cv=10) \n",
        "sns.heatmap(confusion_matrix (Y, y_pred), ax=ax[2,0], annot=True, fmt='2.0f')\n",
        "ax[2,0].set_title('Matrix for Naive Bayes')\n",
        "\n",
        "y_pred = cross_val_predict(RandomForestClassifier(),X,Y, cv=10)\n",
        "sns.heatmap(confusion_matrix(Y,y_pred), ax=ax[2,1],annot=True, fmt='2.0f')\n",
        "ax[2,1].set_title('Matrix for Random Forest')\n",
        "\n",
        "y_pred = cross_val_predict(SVC(),X,Y, cv=10)\n",
        "sns.heatmap(confusion_matrix(Y,y_pred), ax=ax[0,1],annot=True, fmt='2.0f')\n",
        "ax[0,1].set_title('Matrix for Support Vector Machines')\n",
        "\n",
        "plt.subplots_adjust(hspace=0.2,wspace=0.2)\n",
        "plt.show()"
      ],
      "execution_count": null,
      "outputs": []
    },
    {
      "cell_type": "code",
      "metadata": {
        "id": "xQPn0HRSYeez"
      },
      "source": [
        ""
      ],
      "execution_count": null,
      "outputs": []
    }
  ]
}